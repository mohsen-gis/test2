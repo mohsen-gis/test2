{
 "cells": [
  {
   "cell_type": "markdown",
   "metadata": {},
   "source": [
    "# Hour of CI Environment Setup Script\n",
    "\n",
    "The following script can be used to setup the Hour of CI environment to run lessons on your personal computer. Please note that this script will modify your Anaconda and Python environments by installing and configuring packages. So please be warned!"
   ]
  },
  {
   "cell_type": "code",
   "execution_count": null,
   "metadata": {},
   "outputs": [],
   "source": [
    "# Install notebook (nb) extensions and other requirement files\n",
    "!pip install -r ../requirements.txt\n",
    "\n"
   ]
  },
  {
   "cell_type": "code",
   "execution_count": null,
   "metadata": {},
   "outputs": [],
   "source": [
    "# Enable and install the following extensions, which are used in running Hour of CI customized notebooks.\n",
    "\n",
    "# FIXME: To be tested.\n",
    "# FIXME: Should we setup a conda/virtualenv for hourofci? That may help to isolate the environment from the local install.\n",
    "\n",
    "!jupyter contrib nbextension install --user\n",
    "!jupyter nbextension enable init_cell/main\n",
    "!jupyter nbextension enable python-markdown/main"
   ]
  }
 ],
 "metadata": {
  "kernelspec": {
   "display_name": "Python 3",
   "language": "python",
   "name": "python3"
  },
  "language_info": {
   "codemirror_mode": {
    "name": "ipython",
    "version": 3
   },
   "file_extension": ".py",
   "mimetype": "text/x-python",
   "name": "python",
   "nbconvert_exporter": "python",
   "pygments_lexer": "ipython3",
   "version": "3.7.0"
  }
 },
 "nbformat": 4,
 "nbformat_minor": 2
}
